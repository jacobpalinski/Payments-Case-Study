{
 "cells": [
  {
   "cell_type": "code",
   "execution_count": 10,
   "metadata": {},
   "outputs": [],
   "source": [
    "# Imports\n",
    "import pandas as pd\n",
    "import numpy as np\n",
    "import matplotlib as plt\n",
    "import seaborn as sns"
   ]
  },
  {
   "cell_type": "code",
   "execution_count": 11,
   "metadata": {},
   "outputs": [],
   "source": [
    "# Import the Csv's\n",
    "payments_df = pd.read_csv('/mnt/c/Users/kpali/Downloads/Payments.csv')\n",
    "clients_df = pd.read_csv('/mnt/c/Users/kpali/Downloads/Clients.csv')"
   ]
  },
  {
   "cell_type": "code",
   "execution_count": 12,
   "metadata": {},
   "outputs": [
    {
     "name": "stdout",
     "output_type": "stream",
     "text": [
      "(25559, 6)\n",
      "(1287, 3)\n"
     ]
    }
   ],
   "source": [
    "# Shape of each dataset\n",
    "print(payments_df.shape)\n",
    "print(clients_df.shape)"
   ]
  },
  {
   "cell_type": "code",
   "execution_count": 13,
   "metadata": {},
   "outputs": [
    {
     "name": "stdout",
     "output_type": "stream",
     "text": [
      "transaction_id        int64\n",
      "contract_id           int64\n",
      "client_id             int64\n",
      "transaction_date      int64\n",
      "payment_amt         float64\n",
      "payment_code         object\n",
      "dtype: object\n",
      "client_id                   int64\n",
      "entity_type                object\n",
      "entity_year_established     int64\n",
      "dtype: object\n"
     ]
    }
   ],
   "source": [
    "# Data types of each column\n",
    "print(payments_df.dtypes)\n",
    "print(clients_df.dtypes)"
   ]
  },
  {
   "cell_type": "code",
   "execution_count": 14,
   "metadata": {},
   "outputs": [
    {
     "name": "stdout",
     "output_type": "stream",
     "text": [
      "transaction_id      0\n",
      "contract_id         0\n",
      "client_id           0\n",
      "transaction_date    0\n",
      "payment_amt         0\n",
      "payment_code        0\n",
      "dtype: int64\n",
      "client_id                  0\n",
      "entity_type                0\n",
      "entity_year_established    0\n",
      "dtype: int64\n"
     ]
    }
   ],
   "source": [
    "# Number of nulls in columns for each dataframe\n",
    "payments_df_null_counts = payments_df.isnull().sum()\n",
    "clients_df_null_counts = clients_df.isnull().sum()\n",
    "print(payments_df_null_counts)\n",
    "print(clients_df_null_counts)"
   ]
  },
  {
   "cell_type": "code",
   "execution_count": 15,
   "metadata": {},
   "outputs": [],
   "source": [
    "# Convert epoch timestamp for transaction_date to a month-year timestamp\n",
    "payments_df['transaction_date'] = pd.to_datetime(payments_df['transaction_date'], unit = 's')\n",
    "payments_df['transaction_date'] = payments_df['transaction_date'].dt.strftime('%m-%Y')"
   ]
  },
  {
   "cell_type": "code",
   "execution_count": 17,
   "metadata": {},
   "outputs": [
    {
     "name": "stdout",
     "output_type": "stream",
     "text": [
      "   transaction_id  contract_id  client_id transaction_date  payment_amt  \\\n",
      "0           20175          927          1          05-2018        66.66   \n",
      "1            8485          927          1          11-2017        66.66   \n",
      "2           13778          927          1          02-2018        66.66   \n",
      "3           22768          927          1          06-2018        66.66   \n",
      "4           15698          927          1          03-2018        66.66   \n",
      "\n",
      "  payment_code  \n",
      "0      PAYMENT  \n",
      "1      PAYMENT  \n",
      "2      PAYMENT  \n",
      "3      PAYMENT  \n",
      "4      PAYMENT  \n",
      "Counts for each type of payment_code value: \n",
      "payment_code\n",
      "PAYMENT    23340\n",
      "DEFAULT     2219\n",
      "Name: count, dtype: int64\n",
      "Counts of records by transaction date: \n",
      "transaction_date\n",
      "06-2018    2469\n",
      "05-2018    2430\n",
      "04-2018    2272\n",
      "07-2018    2245\n",
      "03-2018    1917\n",
      "02-2018    1905\n",
      "07-2017    1884\n",
      "01-2018    1871\n",
      "08-2017    1759\n",
      "11-2017    1751\n",
      "10-2017    1742\n",
      "12-2017    1661\n",
      "09-2017    1653\n",
      "Name: count, dtype: int64\n",
      "Summary statistics for payment_amt: \n",
      "count     25559.000000\n",
      "mean       1221.455691\n",
      "std        4346.049363\n",
      "min        -136.660000\n",
      "25%          93.330000\n",
      "50%         266.660000\n",
      "75%         833.330000\n",
      "max      200000.050000\n",
      "Name: payment_amt, dtype: float64\n",
      "Counts of businesses by entity_type: \n",
      "entity_type\n",
      "Australian Private Company        754\n",
      "Individual/Sole Trader            457\n",
      "Family Partnership                 39\n",
      "Discretionary Trading Trust        12\n",
      "Other Partnership                  10\n",
      "Australian Public Company           6\n",
      "Fixed Unit Trust                    4\n",
      "Discretionary Investment Trust      3\n",
      "Australian Proprietary Company      1\n",
      "Hybrid Trust                        1\n",
      "Name: count, dtype: int64\n",
      "Counts of businesses by year established: \n",
      "entity_year_established\n",
      "2000    167\n",
      "2014    122\n",
      "2015    117\n",
      "2016    101\n",
      "2013     94\n",
      "2012     86\n",
      "2011     68\n",
      "2010     61\n",
      "2008     55\n",
      "2007     55\n",
      "2009     49\n",
      "2006     49\n",
      "2005     46\n",
      "2017     45\n",
      "2003     43\n",
      "2004     34\n",
      "2001     34\n",
      "1999     29\n",
      "2002     26\n",
      "2018      6\n",
      "Name: count, dtype: int64\n"
     ]
    }
   ],
   "source": [
    "# Explore contents of columns + records in each column\n",
    "print(payments_df.head())\n",
    "print('Counts for each type of payment_code value: ')\n",
    "print(payments_df['payment_code'].value_counts())\n",
    "print('Counts of records by transaction date: ')\n",
    "print(payments_df['transaction_date'].value_counts())\n",
    "print('Summary statistics for payment_amt: ')\n",
    "print(payments_df['payment_amt'].describe())\n",
    "print('Counts of businesses by entity_type: ')\n",
    "print(clients_df['entity_type'].value_counts())\n",
    "print('Counts of businesses by year established: ')\n",
    "print(clients_df['entity_year_established'].value_counts())"
   ]
  },
  {
   "cell_type": "code",
   "execution_count": 18,
   "metadata": {},
   "outputs": [
    {
     "data": {
      "text/html": [
       "<div>\n",
       "<style scoped>\n",
       "    .dataframe tbody tr th:only-of-type {\n",
       "        vertical-align: middle;\n",
       "    }\n",
       "\n",
       "    .dataframe tbody tr th {\n",
       "        vertical-align: top;\n",
       "    }\n",
       "\n",
       "    .dataframe thead th {\n",
       "        text-align: right;\n",
       "    }\n",
       "</style>\n",
       "<table border=\"1\" class=\"dataframe\">\n",
       "  <thead>\n",
       "    <tr style=\"text-align: right;\">\n",
       "      <th></th>\n",
       "      <th>transaction_id</th>\n",
       "      <th>contract_id</th>\n",
       "      <th>client_id</th>\n",
       "      <th>transaction_date</th>\n",
       "      <th>payment_amt</th>\n",
       "      <th>payment_code</th>\n",
       "      <th>entity_type</th>\n",
       "      <th>entity_year_established</th>\n",
       "    </tr>\n",
       "  </thead>\n",
       "  <tbody>\n",
       "    <tr>\n",
       "      <th>0</th>\n",
       "      <td>20175</td>\n",
       "      <td>927</td>\n",
       "      <td>1</td>\n",
       "      <td>05-2018</td>\n",
       "      <td>66.66</td>\n",
       "      <td>PAYMENT</td>\n",
       "      <td>Other Partnership</td>\n",
       "      <td>2006</td>\n",
       "    </tr>\n",
       "    <tr>\n",
       "      <th>1</th>\n",
       "      <td>8485</td>\n",
       "      <td>927</td>\n",
       "      <td>1</td>\n",
       "      <td>11-2017</td>\n",
       "      <td>66.66</td>\n",
       "      <td>PAYMENT</td>\n",
       "      <td>Other Partnership</td>\n",
       "      <td>2006</td>\n",
       "    </tr>\n",
       "    <tr>\n",
       "      <th>2</th>\n",
       "      <td>13778</td>\n",
       "      <td>927</td>\n",
       "      <td>1</td>\n",
       "      <td>02-2018</td>\n",
       "      <td>66.66</td>\n",
       "      <td>PAYMENT</td>\n",
       "      <td>Other Partnership</td>\n",
       "      <td>2006</td>\n",
       "    </tr>\n",
       "    <tr>\n",
       "      <th>3</th>\n",
       "      <td>22768</td>\n",
       "      <td>927</td>\n",
       "      <td>1</td>\n",
       "      <td>06-2018</td>\n",
       "      <td>66.66</td>\n",
       "      <td>PAYMENT</td>\n",
       "      <td>Other Partnership</td>\n",
       "      <td>2006</td>\n",
       "    </tr>\n",
       "    <tr>\n",
       "      <th>4</th>\n",
       "      <td>15698</td>\n",
       "      <td>927</td>\n",
       "      <td>1</td>\n",
       "      <td>03-2018</td>\n",
       "      <td>66.66</td>\n",
       "      <td>PAYMENT</td>\n",
       "      <td>Other Partnership</td>\n",
       "      <td>2006</td>\n",
       "    </tr>\n",
       "  </tbody>\n",
       "</table>\n",
       "</div>"
      ],
      "text/plain": [
       "   transaction_id  contract_id  client_id transaction_date  payment_amt  \\\n",
       "0           20175          927          1          05-2018        66.66   \n",
       "1            8485          927          1          11-2017        66.66   \n",
       "2           13778          927          1          02-2018        66.66   \n",
       "3           22768          927          1          06-2018        66.66   \n",
       "4           15698          927          1          03-2018        66.66   \n",
       "\n",
       "  payment_code        entity_type  entity_year_established  \n",
       "0      PAYMENT  Other Partnership                     2006  \n",
       "1      PAYMENT  Other Partnership                     2006  \n",
       "2      PAYMENT  Other Partnership                     2006  \n",
       "3      PAYMENT  Other Partnership                     2006  \n",
       "4      PAYMENT  Other Partnership                     2006  "
      ]
     },
     "execution_count": 18,
     "metadata": {},
     "output_type": "execute_result"
    }
   ],
   "source": [
    "# Join the two dataframes into a single dataframe joining on 'client id' column\n",
    "merged_df = pd.merge(payments_df, clients_df, on='client_id')\n",
    "merged_df.head()"
   ]
  },
  {
   "cell_type": "code",
   "execution_count": null,
   "metadata": {},
   "outputs": [],
   "source": []
  }
 ],
 "metadata": {
  "kernelspec": {
   "display_name": "venv",
   "language": "python",
   "name": "python3"
  },
  "language_info": {
   "codemirror_mode": {
    "name": "ipython",
    "version": 3
   },
   "file_extension": ".py",
   "mimetype": "text/x-python",
   "name": "python",
   "nbconvert_exporter": "python",
   "pygments_lexer": "ipython3",
   "version": "3.10.12"
  }
 },
 "nbformat": 4,
 "nbformat_minor": 2
}
